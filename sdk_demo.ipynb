{
 "cells": [
  {
   "cell_type": "markdown",
   "metadata": {},
   "source": [
    "# 模型文件地址\n",
    "    \n",
    "    https://github.com/PaddlePaddle/models/tree/develop/PaddleCV/image_classification\n",
    "    \n",
    "    wget http://paddle-imagenet-models-name.bj.bcebos.com/ResNet50_pretrained.tar\n",
    "    tar -xvf ResNet50_pretrained.tar\n",
    "    \n",
    "# 初始化环境\n",
    "\n",
    "    pip install opencv-python\n",
    "    pip install paddlepaddle==1.5\n",
    "    \n",
    "    "
   ]
  },
  {
   "cell_type": "code",
   "execution_count": 1,
   "metadata": {
    "collapsed": false
   },
   "outputs": [],
   "source": [
    "from __future__ import absolute_import\n",
    "from __future__ import division\n",
    "from __future__ import print_function\n",
    "\n",
    "import os\n",
    "import cv2\n",
    "import time\n",
    "import sys\n",
    "import math\n",
    "import numpy as np\n",
    "import argparse\n",
    "import functools\n",
    "\n",
    "import paddle\n",
    "import paddle.fluid as fluid\n",
    "\n",
    "#加载自定义文件\n",
    "from sdk.resnet import ResNet50\n",
    "from sdk.attack_pp import *\n"
   ]
  },
  {
   "cell_type": "code",
   "execution_count": 2,
   "metadata": {
    "collapsed": false
   },
   "outputs": [
    {
     "data": {
      "text/plain": [
       "'\\nuse_gpu=False\\n\\nx = fluid.layers.data(name=\"x\", shape=[1] ,dtype=\\'int32\\')\\nx.stop_gradient=False\\ny = x*3\\n\\ng = fluid.backward.gradients(targets=y, inputs=[x])[0]\\n\\nplace = fluid.CUDAPlace(0) if use_gpu else fluid.CPUPlace()\\nexe = fluid.Executor(place)\\nexe.run(fluid.default_startup_program())\\n\\nresult = exe.run(fluid.default_main_program(),\\n                 fetch_list=[y.name],\\n                 feed={ \\'x\\':np.array([1]).astype(\\'int32\\') })\\n#result = result[0][0]\\n\\nprint(result)\\n'"
      ]
     },
     "execution_count": 2,
     "metadata": {},
     "output_type": "execute_result"
    }
   ],
   "source": [
    "\"\"\"\n",
    "use_gpu=False\n",
    "\n",
    "x = fluid.layers.data(name=\"x\", shape=[1] ,dtype='int32')\n",
    "x.stop_gradient=False\n",
    "y = x*3\n",
    "\n",
    "g = fluid.backward.gradients(targets=y, inputs=[x])[0]\n",
    "\n",
    "place = fluid.CUDAPlace(0) if use_gpu else fluid.CPUPlace()\n",
    "exe = fluid.Executor(place)\n",
    "exe.run(fluid.default_startup_program())\n",
    "\n",
    "result = exe.run(fluid.default_main_program(),\n",
    "                 fetch_list=[y.name],\n",
    "                 feed={ 'x':np.array([1]).astype('int32') })\n",
    "#result = result[0][0]\n",
    "\n",
    "print(result)\n",
    "\"\"\""
   ]
  },
  {
   "cell_type": "markdown",
   "metadata": {},
   "source": [
    "# 加载模型"
   ]
  },
  {
   "cell_type": "code",
   "execution_count": 3,
   "metadata": {
    "collapsed": false
   },
   "outputs": [],
   "source": [
    "#http://www.paddlepaddle.org.cn/documentation/docs/zh/1.5/user_guides/howto/prepare_data/index_cn.html\n",
    "\n",
    "fluid.default_startup_program().random_seed = 1\n",
    "fluid.default_main_program().random_seed = 1\n",
    "\n",
    "class_dim=1000\n",
    "image_shape=[3,224,224]\n",
    "model_name=\"resnet50\"\n",
    "use_gpu=False\n",
    "pretrained_model=\"ResNet50_pretrained\"\n",
    "TOPK=3\n",
    "\n",
    "input_layer = fluid.layers.data(name='image', shape=image_shape, dtype='float32')\n",
    "#设置为可以计算梯度\n",
    "input_layer.stop_gradient=False\n",
    "\n",
    "# model definition\n",
    "model = ResNet50()\n",
    "out = model.net(input=input_layer, class_dim=class_dim)\n",
    "out = fluid.layers.softmax(out)\n",
    "\n",
    "#评估模式\n",
    "eval_program = fluid.default_main_program().clone(for_test=True)\n",
    "\n",
    "fetch_list = [out.name]\n",
    "\n",
    "place = fluid.CUDAPlace(0) if use_gpu else fluid.CPUPlace()\n",
    "exe = fluid.Executor(place)\n",
    "exe.run(fluid.default_startup_program())\n",
    "\n",
    "#记载模型参数\n",
    "fluid.io.load_persistables(exe, pretrained_model)"
   ]
  },
  {
   "cell_type": "markdown",
   "metadata": {},
   "source": [
    "# 预测原始图片"
   ]
  },
  {
   "cell_type": "code",
   "execution_count": 4,
   "metadata": {
    "collapsed": false
   },
   "outputs": [
    {
     "name": "stdout",
     "output_type": "stream",
     "text": [
      "(1, 3, 224, 224)\n",
      "Test-score: [0.63326067 0.23805845 0.0749701 ], class [504 967 968]\n"
     ]
    }
   ],
   "source": [
    "img_path = \"mug227.png\"\n",
    "\n",
    "img=process_img(img_path)\n",
    "\n",
    "print(img.shape)\n",
    "\n",
    "result = exe.run(eval_program,\n",
    "                 fetch_list=fetch_list,\n",
    "                 feed={ 'image':img })\n",
    "result = result[0][0]\n",
    "\n",
    "pred_label = np.argsort(result)[::-1][:TOPK]\n",
    "print(\"Test-score: {0}, class {1}\".format(result[pred_label], pred_label))\n",
    "sys.stdout.flush()"
   ]
  },
  {
   "cell_type": "code",
   "execution_count": 5,
   "metadata": {
    "collapsed": false
   },
   "outputs": [
    {
     "name": "stdout",
     "output_type": "stream",
     "text": [
      "eval model\n",
      "Test-score: [0.63326067 0.23805845 0.0749701 ], class [504 967 968]\n",
      "Test-score: [0.63326067 0.23805845 0.0749701 ], class [504 967 968]\n",
      "train model\n",
      "Test-score: [0.00893321 0.00554745 0.00553076], class [463 899 600]\n",
      "Test-score: [0.00893321 0.00554745 0.00553076], class [463 899 600]\n",
      "debug model\n",
      "Test-score: [0.5617399  0.2568845  0.07062895], class [504 967 968]\n",
      "Test-score: [0.5617399  0.2568845  0.07062895], class [504 967 968]\n"
     ]
    }
   ],
   "source": [
    "#同样一张图片 训练模式和预测模式下的结果不一样\n",
    "\n",
    "#评估模式\n",
    "demo1_program = fluid.default_main_program().clone(for_test=True)\n",
    "\n",
    "print(\"eval model\")\n",
    "\n",
    "for _ in range(2):\n",
    "    result = exe.run(demo1_program,\n",
    "                 fetch_list=fetch_list,\n",
    "                 feed={ 'image':img })\n",
    "    result = result[0][0]\n",
    "\n",
    "    pred_label = np.argsort(result)[::-1][:TOPK]\n",
    "    print(\"Test-score: {0}, class {1}\".format(result[pred_label], pred_label))\n",
    "    sys.stdout.flush()\n",
    "    \n",
    "print(\"train model\")\n",
    "       \n",
    "#训练模式\n",
    "demo2_program = fluid.default_main_program().clone(for_test=False)\n",
    "demo2_program.random_seed = 1\n",
    "\n",
    "for _ in range(2):\n",
    "    result = exe.run(demo2_program,\n",
    "                 fetch_list=fetch_list,\n",
    "                 feed={ 'image':img })\n",
    "    result = result[0][0]\n",
    "\n",
    "    pred_label = np.argsort(result)[::-1][:TOPK]\n",
    "    print(\"Test-score: {0}, class {1}\".format(result[pred_label], pred_label))\n",
    "    sys.stdout.flush()\n",
    "    \n",
    "\n",
    "\n",
    "                \n",
    "#预测模式 但是BN层特殊处理\n",
    "demo3_program = fluid.default_main_program().clone(for_test=True)\n",
    "\n",
    "for op in demo3_program.block(0).ops:\n",
    "    #print(\"op type is {}\".format(op.type))\n",
    "    if op.type in [\"batch_norm\"]:\n",
    "        # 兼容旧版本 paddle\n",
    "        if hasattr(op, 'set_attr'):\n",
    "            op.set_attr('is_test', False)\n",
    "            op.set_attr('use_global_stats', True)\n",
    "        else:\n",
    "            op._set_attr('is_test', False)\n",
    "            op._set_attr('use_global_stats', True)\n",
    "            \n",
    "            \n",
    "            \n",
    "\n",
    "print(\"debug model\")\n",
    "\n",
    "for _ in range(2):\n",
    "    result = exe.run(demo3_program,\n",
    "                 fetch_list=fetch_list,\n",
    "                 feed={ 'image':img })\n",
    "    result = result[0][0]\n",
    "\n",
    "    pred_label = np.argsort(result)[::-1][:TOPK]\n",
    "    print(\"Test-score: {0}, class {1}\".format(result[pred_label], pred_label))\n",
    "    sys.stdout.flush()"
   ]
  },
  {
   "cell_type": "markdown",
   "metadata": {},
   "source": [
    "# 调用FGSM算法 无定向攻击"
   ]
  },
  {
   "cell_type": "code",
   "execution_count": 6,
   "metadata": {
    "collapsed": false
   },
   "outputs": [
    {
     "name": "stdout",
     "output_type": "stream",
     "text": [
      "\n",
      "[[[nan nan nan ... nan nan nan]\n",
      "  [nan nan nan ... nan nan nan]\n",
      "  [nan nan nan ... nan nan nan]\n",
      "  ...\n",
      "  [nan nan nan ... nan nan nan]\n",
      "  [nan nan nan ... nan nan nan]\n",
      "  [nan nan nan ... nan nan nan]]\n",
      "\n",
      " [[nan nan nan ... nan nan nan]\n",
      "  [nan nan nan ... nan nan nan]\n",
      "  [nan nan nan ... nan nan nan]\n",
      "  ...\n",
      "  [nan nan nan ... nan nan nan]\n",
      "  [nan nan nan ... nan nan nan]\n",
      "  [nan nan nan ... nan nan nan]]\n",
      "\n",
      " [[nan nan nan ... nan nan nan]\n",
      "  [nan nan nan ... nan nan nan]\n",
      "  [nan nan nan ... nan nan nan]\n",
      "  ...\n",
      "  [nan nan nan ... nan nan nan]\n",
      "  [nan nan nan ... nan nan nan]\n",
      "  [nan nan nan ... nan nan nan]]]\n",
      "Test-score: [nan nan nan], class [999 328 341]\n"
     ]
    }
   ],
   "source": [
    "img_path = \"mug227.png\"\n",
    "img=process_img(img_path)\n",
    "\n",
    "#init_prog(fluid.default_main_program())\n",
    "\n",
    "#生成对抗样本\n",
    "adv=FGSM(o=img,input_layer=input_layer,output_layer=out,step_size=16.0/256.0,isTarget=False,target_label=0)\n",
    "\n",
    "    \n",
    "result = exe.run(eval_program,\n",
    "                 fetch_list=fetch_list,\n",
    "                 feed={ 'image':adv })\n",
    "result = result[0][0]\n",
    "\n",
    "pred_label = np.argsort(result)[::-1][:TOPK]\n",
    "\n",
    "print(\"Test-score: {0}, class {1}\".format(result[pred_label], pred_label))\n",
    "sys.stdout.flush()"
   ]
  }
 ],
 "metadata": {
  "kernelspec": {
   "display_name": "py36",
   "language": "python",
   "name": "py36"
  },
  "language_info": {
   "codemirror_mode": {
    "name": "ipython",
    "version": 3
   },
   "file_extension": ".py",
   "mimetype": "text/x-python",
   "name": "python",
   "nbconvert_exporter": "python",
   "pygments_lexer": "ipython3",
   "version": "3.6.2"
  }
 },
 "nbformat": 4,
 "nbformat_minor": 2
}
