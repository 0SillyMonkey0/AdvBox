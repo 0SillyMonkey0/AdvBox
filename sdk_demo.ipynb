{
 "cells": [
  {
   "cell_type": "markdown",
   "metadata": {},
   "source": [
    "# 模型文件地址\n",
    "    \n",
    "    https://github.com/PaddlePaddle/models/tree/develop/PaddleCV/image_classification\n",
    "    \n",
    "    wget http://paddle-imagenet-models-name.bj.bcebos.com/ResNet50_pretrained.tar\n",
    "    tar -xvf ResNet50_pretrained.tar\n",
    "    \n",
    "# 初始化环境\n",
    "\n",
    "    pip install opencv-python\n",
    "    pip install paddlepaddle==1.5\n",
    "    \n",
    "    "
   ]
  },
  {
   "cell_type": "code",
   "execution_count": 1,
   "metadata": {},
   "outputs": [],
   "source": [
    "from __future__ import absolute_import\n",
    "from __future__ import division\n",
    "from __future__ import print_function\n",
    "\n",
    "import os\n",
    "import cv2\n",
    "import time\n",
    "import sys\n",
    "import math\n",
    "import numpy as np\n",
    "import argparse\n",
    "import functools\n",
    "\n",
    "import paddle\n",
    "import paddle.fluid as fluid\n",
    "\n",
    "#加载自定义文件\n",
    "from sdk.resnet import ResNet50\n",
    "from sdk.attack_pp import *\n"
   ]
  },
  {
   "cell_type": "code",
   "execution_count": 2,
   "metadata": {},
   "outputs": [
    {
     "data": {
      "text/plain": [
       "'\\nuse_gpu=False\\n\\nx = fluid.layers.data(name=\"x\", shape=[1] ,dtype=\\'int32\\')\\nx.stop_gradient=False\\ny = x*3\\n\\ng = fluid.backward.gradients(targets=y, inputs=[x])[0]\\n\\nplace = fluid.CUDAPlace(0) if use_gpu else fluid.CPUPlace()\\nexe = fluid.Executor(place)\\nexe.run(fluid.default_startup_program())\\n\\nresult = exe.run(fluid.default_main_program(),\\n                 fetch_list=[y.name],\\n                 feed={ \\'x\\':np.array([1]).astype(\\'int32\\') })\\n#result = result[0][0]\\n\\nprint(result)\\n'"
      ]
     },
     "execution_count": 2,
     "metadata": {},
     "output_type": "execute_result"
    }
   ],
   "source": [
    "\"\"\"\n",
    "use_gpu=False\n",
    "\n",
    "x = fluid.layers.data(name=\"x\", shape=[1] ,dtype='int32')\n",
    "x.stop_gradient=False\n",
    "y = x*3\n",
    "\n",
    "g = fluid.backward.gradients(targets=y, inputs=[x])[0]\n",
    "\n",
    "place = fluid.CUDAPlace(0) if use_gpu else fluid.CPUPlace()\n",
    "exe = fluid.Executor(place)\n",
    "exe.run(fluid.default_startup_program())\n",
    "\n",
    "result = exe.run(fluid.default_main_program(),\n",
    "                 fetch_list=[y.name],\n",
    "                 feed={ 'x':np.array([1]).astype('int32') })\n",
    "#result = result[0][0]\n",
    "\n",
    "print(result)\n",
    "\"\"\""
   ]
  },
  {
   "cell_type": "markdown",
   "metadata": {},
   "source": [
    "# 创建对抗样本相关的损失函数和标签并加载模型"
   ]
  },
  {
   "cell_type": "code",
   "execution_count": 3,
   "metadata": {},
   "outputs": [],
   "source": [
    "#http://www.paddlepaddle.org.cn/documentation/docs/zh/1.5/user_guides/howto/prepare_data/index_cn.html\n",
    "\n",
    "#fluid.default_startup_program().random_seed = 1\n",
    "#fluid.default_main_program().random_seed = 1\n",
    "\n",
    "class_dim=1000\n",
    "image_shape=[3,224,224]\n",
    "model_name=\"resnet50\"\n",
    "use_gpu=False\n",
    "pretrained_model=\"ResNet50_pretrained\"\n",
    "TOPK=3\n",
    "\n",
    "adv_program=fluid.Program()\n",
    "\n",
    "with fluid.program_guard(adv_program):\n",
    "    input_layer = fluid.layers.data(name='image', shape=image_shape, dtype='float32')\n",
    "    #设置为可以计算梯度\n",
    "    input_layer.stop_gradient=False\n",
    "\n",
    "    # model definition\n",
    "    model = ResNet50()\n",
    "    out = model.net(input=input_layer, class_dim=class_dim)\n",
    "    out = fluid.layers.softmax(out)\n",
    "\n",
    "    place = fluid.CUDAPlace(0) if use_gpu else fluid.CPUPlace()\n",
    "    exe = fluid.Executor(place)\n",
    "    exe.run(fluid.default_startup_program())\n",
    "\n",
    "    #记载模型参数\n",
    "    fluid.io.load_persistables(exe, pretrained_model)\n",
    "    \n",
    "    \n",
    "#创建测试用评估模式\n",
    "eval_program = adv_program.clone(for_test=True)\n",
    "\n",
    "with fluid.program_guard(adv_program):\n",
    "    label = fluid.layers.data(name=\"label\", shape=[1] ,dtype='int64')\n",
    "    loss = fluid.layers.cross_entropy(input=out, label=label)\n",
    "    #http://www.paddlepaddle.org.cn/documentation/docs/zh/1.5/api_cn/backward_cn.html\n",
    "    gradients = fluid.backward.gradients(targets=loss, inputs=[input_layer])[0]\n"
   ]
  },
  {
   "cell_type": "markdown",
   "metadata": {},
   "source": [
    "# 预测原始图片"
   ]
  },
  {
   "cell_type": "code",
   "execution_count": 4,
   "metadata": {},
   "outputs": [
    {
     "name": "stdout",
     "output_type": "stream",
     "text": [
      "(1, 3, 224, 224)\n",
      "Test-score: [0.63326067 0.23805845 0.0749701 ], class [504 967 968]\n"
     ]
    }
   ],
   "source": [
    "img_path = \"mug227.png\"\n",
    "\n",
    "img=process_img(img_path)\n",
    "\n",
    "\n",
    "fetch_list = [out.name]\n",
    "\n",
    "print(img.shape)\n",
    "\n",
    "result = exe.run(eval_program,\n",
    "                 fetch_list=fetch_list,\n",
    "                 feed={ 'image':img })\n",
    "result = result[0][0]\n",
    "\n",
    "pred_label = np.argsort(result)[::-1][:TOPK]\n",
    "print(\"Test-score: {0}, class {1}\".format(result[pred_label], pred_label))\n",
    "sys.stdout.flush()"
   ]
  },
  {
   "cell_type": "markdown",
   "metadata": {},
   "source": [
    "# 调用FGSM算法 无定向攻击"
   ]
  },
  {
   "cell_type": "code",
   "execution_count": 5,
   "metadata": {},
   "outputs": [
    {
     "name": "stdout",
     "output_type": "stream",
     "text": [
      "Non-Targeted attack target_label=o_label=504\n",
      "Test-score: [0.98026764 0.00760567 0.00633906], class [967 504 968]\n"
     ]
    }
   ],
   "source": [
    "img_path = \"mug227.png\"\n",
    "img=process_img(img_path)\n",
    "\n",
    "#init_prog(fluid.default_main_program())\n",
    "\n",
    "#生成对抗样本\n",
    "adv=FGSM(adv_program=adv_program,eval_program=eval_program,gradients=gradients,o=img,input_layer=input_layer,output_layer=out,step_size=16.0/256.0,isTarget=False,target_label=0)\n",
    "\n",
    "    \n",
    "result = exe.run(eval_program,\n",
    "                 fetch_list=fetch_list,\n",
    "                 feed={ 'image':adv })\n",
    "result = result[0][0]\n",
    "\n",
    "pred_label = np.argsort(result)[::-1][:TOPK]\n",
    "\n",
    "print(\"Test-score: {0}, class {1}\".format(result[pred_label], pred_label))\n",
    "sys.stdout.flush()"
   ]
  },
  {
   "cell_type": "markdown",
   "metadata": {},
   "source": [
    "# 调用FGSM算法 定向攻击"
   ]
  },
  {
   "cell_type": "code",
   "execution_count": 6,
   "metadata": {},
   "outputs": [
    {
     "name": "stdout",
     "output_type": "stream",
     "text": [
      "Targeted attack target_label=968 o_label=504\n",
      "Test-score: [0.48446572 0.31735182 0.07795694], class [968 504 967]\n"
     ]
    }
   ],
   "source": [
    "img_path = \"mug227.png\"\n",
    "img=process_img(img_path)\n",
    "\n",
    "#init_prog(fluid.default_main_program())\n",
    "\n",
    "#生成对抗样本\n",
    "adv=FGSM(adv_program=adv_program,eval_program=eval_program,gradients=gradients,o=img,\n",
    "         input_layer=input_layer,output_layer=out,step_size=16.0/256.0,isTarget=True,target_label=968)\n",
    "\n",
    "    \n",
    "result = exe.run(eval_program,\n",
    "                 fetch_list=fetch_list,\n",
    "                 feed={ 'image':adv })\n",
    "result = result[0][0]\n",
    "\n",
    "pred_label = np.argsort(result)[::-1][:TOPK]\n",
    "\n",
    "print(\"Test-score: {0}, class {1}\".format(result[pred_label], pred_label))\n",
    "sys.stdout.flush()"
   ]
  }
 ],
 "metadata": {
  "kernelspec": {
   "display_name": "py36",
   "language": "python",
   "name": "py36"
  },
  "language_info": {
   "codemirror_mode": {
    "name": "ipython",
    "version": 3
   },
   "file_extension": ".py",
   "mimetype": "text/x-python",
   "name": "python",
   "nbconvert_exporter": "python",
   "pygments_lexer": "ipython3",
   "version": "3.6.8"
  }
 },
 "nbformat": 4,
 "nbformat_minor": 2
}
