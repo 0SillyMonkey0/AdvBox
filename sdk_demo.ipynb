{
 "cells": [
  {
   "cell_type": "markdown",
   "metadata": {},
   "source": [
    "模型文件地址\n",
    "    \n",
    "    https://github.com/PaddlePaddle/models/tree/develop/PaddleCV/image_classification\n",
    "   "
   ]
  },
  {
   "cell_type": "code",
   "execution_count": 1,
   "metadata": {},
   "outputs": [],
   "source": [
    "from __future__ import absolute_import\n",
    "from __future__ import division\n",
    "from __future__ import print_function\n",
    "\n",
    "import os\n",
    "import cv2\n",
    "import time\n",
    "import sys\n",
    "import math\n",
    "import numpy as np\n",
    "import argparse\n",
    "import functools\n",
    "\n",
    "import paddle\n",
    "import paddle.fluid as fluid\n",
    "\n",
    "from sdk.resnet import ResNet50\n"
   ]
  },
  {
   "cell_type": "code",
   "execution_count": 2,
   "metadata": {},
   "outputs": [],
   "source": [
    "#http://www.paddlepaddle.org.cn/documentation/docs/zh/1.5/user_guides/howto/prepare_data/index_cn.html\n",
    "\n",
    "mean = [0.485, 0.456, 0.406] \n",
    "std = [0.229, 0.224, 0.225] \n",
    "\n",
    "class_dim=1000\n",
    "image_shape=[3,224,224]\n",
    "model_name=\"resnet50\"\n",
    "use_gpu=False\n",
    "pretrained_model=\"ResNet50_pretrained\"\n",
    "TOPK=3\n",
    "\n",
    "image = fluid.layers.data(name='image', shape=image_shape, dtype='float32')\n",
    "\n",
    "# model definition\n",
    "model = ResNet50()\n",
    "out = model.net(input=image, class_dim=class_dim)\n",
    "out = fluid.layers.softmax(out)\n",
    "\n",
    "test_program = fluid.default_main_program().clone(for_test=True)\n",
    "\n",
    "fetch_list = [out.name]\n",
    "\n",
    "place = fluid.CUDAPlace(0) if use_gpu else fluid.CPUPlace()\n",
    "exe = fluid.Executor(place)\n",
    "exe.run(fluid.default_startup_program())\n",
    "\n",
    "fluid.io.load_persistables(exe, pretrained_model)\n",
    "\n"
   ]
  },
  {
   "cell_type": "code",
   "execution_count": 3,
   "metadata": {},
   "outputs": [
    {
     "name": "stdout",
     "output_type": "stream",
     "text": [
      "(3, 224, 224)\n",
      "Test-score: [0.63326067 0.23805845 0.0749701 ], class [504 967 968]\n"
     ]
    }
   ],
   "source": [
    "img_path = \"mug227.png\"\n",
    "img = cv2.imread(img_path)\n",
    "img = cv2.resize(img,(image_shape[1],image_shape[2]))\n",
    "\n",
    "img = img[:, :, ::-1].astype('float32').transpose((2, 0, 1)) / 255\n",
    "img_mean = np.array(mean).reshape((3, 1, 1))\n",
    "img_std = np.array(std).reshape((3, 1, 1))\n",
    "img -= img_mean\n",
    "img /= img_std\n",
    "\n",
    "print(img.shape)\n",
    "\n",
    "result = exe.run(test_program,\n",
    "                 fetch_list=fetch_list,\n",
    "                 feed={ 'image':(img,) })\n",
    "result = result[0][0]\n",
    "\n",
    "pred_label = np.argsort(result)[::-1][:TOPK]\n",
    "print(\"Test-score: {0}, class {1}\".format(result[pred_label], pred_label))\n",
    "sys.stdout.flush()"
   ]
  }
 ],
 "metadata": {
  "kernelspec": {
   "display_name": "py36",
   "language": "python",
   "name": "py36"
  },
  "language_info": {
   "codemirror_mode": {
    "name": "ipython",
    "version": 3
   },
   "file_extension": ".py",
   "mimetype": "text/x-python",
   "name": "python",
   "nbconvert_exporter": "python",
   "pygments_lexer": "ipython3",
   "version": "3.6.8"
  }
 },
 "nbformat": 4,
 "nbformat_minor": 2
}
